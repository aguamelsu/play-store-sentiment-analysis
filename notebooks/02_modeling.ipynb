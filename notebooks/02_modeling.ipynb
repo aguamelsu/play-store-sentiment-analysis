{
 "cells": [
  {
   "cell_type": "markdown",
   "id": "0eb01ea1",
   "metadata": {},
   "source": [
    "# Play Store Sentiment Review (Naive Bayes)"
   ]
  },
  {
   "cell_type": "code",
   "execution_count": 56,
   "id": "ed8c1fb2",
   "metadata": {},
   "outputs": [],
   "source": [
    "# Import libraries\n",
    "import pandas as pd\n",
    "import matplotlib.pyplot as plt\n",
    "import seaborn as sns\n",
    "from sklearn.model_selection import train_test_split, GridSearchCV\n",
    "from sklearn.feature_extraction.text import TfidfVectorizer\n",
    "from sklearn.naive_bayes import MultinomialNB\n",
    "from sklearn.metrics import accuracy_score, classification_report, confusion_matrix, ConfusionMatrixDisplay\n",
    "from pickle import dump\n",
    "from sklearn.pipeline import Pipeline\n",
    "from sklearn.feature_extraction.text import CountVectorizer\n"
   ]
  },
  {
   "cell_type": "code",
   "execution_count": 6,
   "id": "81c3b286",
   "metadata": {},
   "outputs": [
    {
     "data": {
      "text/html": [
       "<div>\n",
       "<style scoped>\n",
       "    .dataframe tbody tr th:only-of-type {\n",
       "        vertical-align: middle;\n",
       "    }\n",
       "\n",
       "    .dataframe tbody tr th {\n",
       "        vertical-align: top;\n",
       "    }\n",
       "\n",
       "    .dataframe thead th {\n",
       "        text-align: right;\n",
       "    }\n",
       "</style>\n",
       "<table border=\"1\" class=\"dataframe\">\n",
       "  <thead>\n",
       "    <tr style=\"text-align: right;\">\n",
       "      <th></th>\n",
       "      <th>review</th>\n",
       "      <th>polarity</th>\n",
       "    </tr>\n",
       "  </thead>\n",
       "  <tbody>\n",
       "    <tr>\n",
       "      <th>815</th>\n",
       "      <td>thanks u so much for adding sanshkar fm kalai...</td>\n",
       "      <td>1</td>\n",
       "    </tr>\n",
       "    <tr>\n",
       "      <th>682</th>\n",
       "      <td>lacks caps lock function because there is no ...</td>\n",
       "      <td>1</td>\n",
       "    </tr>\n",
       "    <tr>\n",
       "      <th>613</th>\n",
       "      <td>nice app i suggest you to add a word-count fe...</td>\n",
       "      <td>1</td>\n",
       "    </tr>\n",
       "    <tr>\n",
       "      <th>649</th>\n",
       "      <td>brilliant app brilliant app for browsing and ...</td>\n",
       "      <td>1</td>\n",
       "    </tr>\n",
       "    <tr>\n",
       "      <th>850</th>\n",
       "      <td>really useful app.. đđđđ</td>\n",
       "      <td>1</td>\n",
       "    </tr>\n",
       "    <tr>\n",
       "      <th>237</th>\n",
       "      <td>hasn't loaded in almost 16 days. have played...</td>\n",
       "      <td>0</td>\n",
       "    </tr>\n",
       "    <tr>\n",
       "      <th>732</th>\n",
       "      <td>update sucks!!! it has become so slow now tha...</td>\n",
       "      <td>0</td>\n",
       "    </tr>\n",
       "    <tr>\n",
       "      <th>76</th>\n",
       "      <td>i hated it i am able to log in successfully b...</td>\n",
       "      <td>0</td>\n",
       "    </tr>\n",
       "    <tr>\n",
       "      <th>450</th>\n",
       "      <td>doesn't refresh properly i added a few contac...</td>\n",
       "      <td>0</td>\n",
       "    </tr>\n",
       "    <tr>\n",
       "      <th>608</th>\n",
       "      <td>new user, great app. have suggestions so far,...</td>\n",
       "      <td>1</td>\n",
       "    </tr>\n",
       "  </tbody>\n",
       "</table>\n",
       "</div>"
      ],
      "text/plain": [
       "                                                review  polarity\n",
       "815   thanks u so much for adding sanshkar fm kalai...         1\n",
       "682   lacks caps lock function because there is no ...         1\n",
       "613   nice app i suggest you to add a word-count fe...         1\n",
       "649   brilliant app brilliant app for browsing and ...         1\n",
       "850               really useful app.. đđđđ         1\n",
       "237    hasn't loaded in almost 16 days. have played...         0\n",
       "732   update sucks!!! it has become so slow now tha...         0\n",
       "76    i hated it i am able to log in successfully b...         0\n",
       "450   doesn't refresh properly i added a few contac...         0\n",
       "608   new user, great app. have suggestions so far,...         1"
      ]
     },
     "execution_count": 6,
     "metadata": {},
     "output_type": "execute_result"
    }
   ],
   "source": [
    "df = pd.read_csv('../data/processed/playstore_reviews_processed.csv')\n",
    "df.sample(10)"
   ]
  },
  {
   "cell_type": "code",
   "execution_count": 26,
   "id": "430bca1b",
   "metadata": {},
   "outputs": [
    {
     "data": {
      "text/plain": [
       "((712,), (179,), (712,), (179,))"
      ]
     },
     "execution_count": 26,
     "metadata": {},
     "output_type": "execute_result"
    }
   ],
   "source": [
    "X = df['review']\n",
    "y = df['polarity']\n",
    "\n",
    "X_train, X_test, y_train, y_test = train_test_split(X, y, test_size=0.2, random_state=2025)\n",
    "X_train.shape, X_test.shape, y_train.shape, y_test.shape"
   ]
  },
  {
   "cell_type": "markdown",
   "id": "42f45d30",
   "metadata": {},
   "source": [
    "To train a Naive Bayes model, the predictors must be numerical. Thus, the text will be converted into a weight count matrix using Term Frequency–Inverse Document Frequency"
   ]
  },
  {
   "cell_type": "code",
   "execution_count": 41,
   "id": "f3925aca",
   "metadata": {},
   "outputs": [
    {
     "data": {
      "text/plain": [
       "((712, 3304), (179, 3304))"
      ]
     },
     "execution_count": 41,
     "metadata": {},
     "output_type": "execute_result"
    }
   ],
   "source": [
    "# Vectorize data\n",
    "vectorizer = TfidfVectorizer(stop_words='english')\n",
    "X_train_vec = vectorizer.fit_transform(X_train)\n",
    "X_test_vec = vectorizer.transform(X_test)\n",
    "\n",
    "X_train_vec.shape, X_test_vec.shape"
   ]
  },
  {
   "cell_type": "markdown",
   "id": "afe7fb7a",
   "metadata": {},
   "source": [
    "In this case, the target is binary and BernoulliNb could be use. Although, the features in this case represent ponderated frecuencies, therefore, the MultinomialNB implementation will be used.  "
   ]
  },
  {
   "cell_type": "code",
   "execution_count": 57,
   "id": "85b700b1",
   "metadata": {},
   "outputs": [],
   "source": [
    "def metrics_scores(y_test, y_hat):\n",
    "    # Accuracy and classification report\n",
    "    display('Accuracy score:', accuracy_score(y_test, y_hat))\n",
    "    display(classification_report(y_test, y_hat))\n",
    "\n",
    "    cm = confusion_matrix(y_test, y_hat)\n",
    "\n",
    "    disp = ConfusionMatrixDisplay(confusion_matrix=cm, display_labels=df['polarity'].unique())\n",
    "    disp.plot(cmap=plt.cm.Reds)\n",
    "    plt.title(\"Confusion Matrix\")\n",
    "    plt.show()"
   ]
  },
  {
   "cell_type": "code",
   "execution_count": 58,
   "id": "0ea7efcc",
   "metadata": {},
   "outputs": [
    {
     "data": {
      "text/plain": [
       "'Accuracy score:'"
      ]
     },
     "metadata": {},
     "output_type": "display_data"
    },
    {
     "data": {
      "text/plain": [
       "0.7262569832402235"
      ]
     },
     "metadata": {},
     "output_type": "display_data"
    },
    {
     "data": {
      "text/plain": [
       "'              precision    recall  f1-score   support\\n\\n           0       0.72      0.98      0.83       120\\n           1       0.86      0.20      0.33        59\\n\\n    accuracy                           0.73       179\\n   macro avg       0.79      0.59      0.58       179\\nweighted avg       0.76      0.73      0.66       179\\n'"
      ]
     },
     "metadata": {},
     "output_type": "display_data"
    },
    {
     "data": {
      "image/png": "[encoded data removed]",
      "text/plain": [
       "<Figure size 640x480 with 2 Axes>"
      ]
     },
     "metadata": {},
     "output_type": "display_data"
    }
   ],
   "source": [
    "# Machine Learning\n",
    "nb = MultinomialNB()\n",
    "nb.fit(X_train_vec, y_train)\n",
    "y_hat = nb.predict(X_test_vec)\n",
    "\n",
    "metrics_scores(y_test, y_hat)"
   ]
  },
  {
   "cell_type": "markdown",
   "id": "5b30c2a8",
   "metadata": {},
   "source": [
    "This model has an accuracy of 0.72. It has almost a perfect recall for reviews with polarity of 0. Although for reviews with polarity of 1 it has a poor performance with a recall of 0.2. Further optimization is required. \n",
    "\n",
    "Another type of vectorization for the reviews is the CountVectorizer which just counts how many times each word has appeared in the review, it does not penalize frequent words, but it can be another alternative to vectorizing the text. "
   ]
  },
  {
   "cell_type": "code",
   "execution_count": 60,
   "id": "1ce09d9b",
   "metadata": {},
   "outputs": [
    {
     "data": {
      "text/plain": [
       "'Accuracy score:'"
      ]
     },
     "metadata": {},
     "output_type": "display_data"
    },
    {
     "data": {
      "text/plain": [
       "0.8100558659217877"
      ]
     },
     "metadata": {},
     "output_type": "display_data"
    },
    {
     "data": {
      "text/plain": [
       "'              precision    recall  f1-score   support\\n\\n           0       0.82      0.92      0.87       120\\n           1       0.78      0.59      0.67        59\\n\\n    accuracy                           0.81       179\\n   macro avg       0.80      0.75      0.77       179\\nweighted avg       0.81      0.81      0.80       179\\n'"
      ]
     },
     "metadata": {},
     "output_type": "display_data"
    },
    {
     "data": {
      "image/png": "[encoded data removed]",
      "text/plain": [
       "<Figure size 640x480 with 2 Axes>"
      ]
     },
     "metadata": {},
     "output_type": "display_data"
    }
   ],
   "source": [
    "# Naive Bayes version 2\n",
    "pipe = Pipeline([\n",
    "    ('count', CountVectorizer(stop_words='english')),\n",
    "    ('nb', MultinomialNB())\n",
    "])\n",
    "\n",
    "nv_v2 = pipe.fit(X_train, y_train)\n",
    "\n",
    "y_hat_v2 = nb_v2.predict(X_test)\n",
    "\n",
    "metrics_scores(y_test, y_hat_v2)"
   ]
  },
  {
   "cell_type": "markdown",
   "id": "b99dd61b",
   "metadata": {},
   "source": [
    "This model with the other type of word vectorizer has an accuracy of 0.81, which is almost 0.1 more than the last model. It also has much better recall for the 1 label, and although it has lower recall in the 0 label, it can be outweighted by the fact that it has better accuracy and both polarities have better f1 score. This model will be the one optimized."
   ]
  },
  {
   "cell_type": "code",
   "execution_count": 61,
   "id": "17c6708e",
   "metadata": {},
   "outputs": [
    {
     "data": {
      "text/plain": [
       "'Best params: '"
      ]
     },
     "metadata": {},
     "output_type": "display_data"
    },
    {
     "data": {
      "text/plain": [
       "{'nb__alpha': 0.5, 'nb__fit_prior': False}"
      ]
     },
     "metadata": {},
     "output_type": "display_data"
    }
   ],
   "source": [
    "param_grid = {\n",
    "    'nb__alpha': [0.1, 0.5, 1.0, 2.0],\n",
    "    'nb__fit_prior': [True, False]\n",
    "}\n",
    "\n",
    "nb_cv = GridSearchCV(\n",
    "    pipe,\n",
    "    param_grid=param_grid,\n",
    "    cv=5,\n",
    ")\n",
    "\n",
    "nb_cv.fit(X_train, y_train)\n",
    "\n",
    "display('Best params: ', nb_cv.best_params_)"
   ]
  },
  {
   "cell_type": "code",
   "execution_count": null,
   "id": "ebfee8dd",
   "metadata": {},
   "outputs": [
    {
     "data": {
      "text/plain": [
       "'Accuracy score:'"
      ]
     },
     "metadata": {},
     "output_type": "display_data"
    },
    {
     "data": {
      "text/plain": [
       "0.8268156424581006"
      ]
     },
     "metadata": {},
     "output_type": "display_data"
    },
    {
     "data": {
      "text/plain": [
       "'              precision    recall  f1-score   support\\n\\n           0       0.86      0.89      0.87       120\\n           1       0.76      0.69      0.73        59\\n\\n    accuracy                           0.83       179\\n   macro avg       0.81      0.79      0.80       179\\nweighted avg       0.82      0.83      0.82       179\\n'"
      ]
     },
     "metadata": {},
     "output_type": "display_data"
    },
    {
     "data": {
      "image/png": "[encoded data removed]",
      "text/plain": [
       "<Figure size 640x480 with 2 Axes>"
      ]
     },
     "metadata": {},
     "output_type": "display_data"
    }
   ],
   "source": [
    "# Prediction with best parameters\n",
    "nb_tuned = nb_cv.best_estimator_\n",
    "y_hat_tuned = nb_tuned.predict(X_test)\n",
    "\n",
    "# Accuracy and classification report\n",
    "metrics_scores(y_test, y_hat_tuned)"
   ]
  },
  {
   "cell_type": "markdown",
   "id": "bfa24aa4",
   "metadata": {},
   "source": [
    "This tuned model has improved by 0.01. The recall in the 0 label is lower but in the 1 label is higher. Both have a good f1 score with respect to the past models."
   ]
  },
  {
   "cell_type": "code",
   "execution_count": 63,
   "id": "9cc14963",
   "metadata": {},
   "outputs": [],
   "source": [
    "# Save models\n",
    "dump(nb, open('../models/nb_model_raw.sav', 'wb'))\n",
    "dump(nb_tuned, open('../models/nb_tuned_model.sav', 'wb'))"
   ]
  }
 ],
 "metadata": {
  "kernelspec": {
   "display_name": ".venv",
   "language": "python",
   "name": "python3"
  },
  "language_info": {
   "codemirror_mode": {
    "name": "ipython",
    "version": 3
   },
   "file_extension": ".py",
   "mimetype": "text/x-python",
   "name": "python",
   "nbconvert_exporter": "python",
   "pygments_lexer": "ipython3",
   "version": "3.12.1"
  }
 },
 "nbformat": 4,
 "nbformat_minor": 5
}

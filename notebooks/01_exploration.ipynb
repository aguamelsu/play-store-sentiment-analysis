{
 "cells": [
  {
   "cell_type": "markdown",
   "id": "e73478c2",
   "metadata": {},
   "source": [
    "# Sentiment Analysis Play Store"
   ]
  },
  {
   "cell_type": "code",
   "execution_count": null,
   "id": "ef6ab6b2",
   "metadata": {},
   "outputs": [],
   "source": [
    "# Import libraries\n",
    "import pandas as pd\n",
    "import matplotlib.pyplot as plt\n",
    "import seaborn as sns\n",
    "from sklearn.model_selection import train_test_split"
   ]
  },
  {
   "cell_type": "code",
   "execution_count": 7,
   "id": "8b197e9c",
   "metadata": {},
   "outputs": [
    {
     "data": {
      "text/html": [
       "<div>\n",
       "<style scoped>\n",
       "    .dataframe tbody tr th:only-of-type {\n",
       "        vertical-align: middle;\n",
       "    }\n",
       "\n",
       "    .dataframe tbody tr th {\n",
       "        vertical-align: top;\n",
       "    }\n",
       "\n",
       "    .dataframe thead th {\n",
       "        text-align: right;\n",
       "    }\n",
       "</style>\n",
       "<table border=\"1\" class=\"dataframe\">\n",
       "  <thead>\n",
       "    <tr style=\"text-align: right;\">\n",
       "      <th></th>\n",
       "      <th>package_name</th>\n",
       "      <th>review</th>\n",
       "      <th>polarity</th>\n",
       "    </tr>\n",
       "  </thead>\n",
       "  <tbody>\n",
       "    <tr>\n",
       "      <th>811</th>\n",
       "      <td>org.mozilla.firefox</td>\n",
       "      <td>the best android browser fast, well designed,...</td>\n",
       "      <td>1</td>\n",
       "    </tr>\n",
       "    <tr>\n",
       "      <th>567</th>\n",
       "      <td>jabanaki.todo.todoly</td>\n",
       "      <td>very bad i use xperia x8 and i think this app...</td>\n",
       "      <td>0</td>\n",
       "    </tr>\n",
       "    <tr>\n",
       "      <th>519</th>\n",
       "      <td>com.dropbox.android</td>\n",
       "      <td>sort option not working they have just provid...</td>\n",
       "      <td>0</td>\n",
       "    </tr>\n",
       "    <tr>\n",
       "      <th>201</th>\n",
       "      <td>com.supercell.clashofclans</td>\n",
       "      <td>help me!!!!!!! my ipad had a software so i lo...</td>\n",
       "      <td>0</td>\n",
       "    </tr>\n",
       "    <tr>\n",
       "      <th>764</th>\n",
       "      <td>com.shirantech.kantipur</td>\n",
       "      <td>thank you ! thank you so much.......</td>\n",
       "      <td>1</td>\n",
       "    </tr>\n",
       "    <tr>\n",
       "      <th>483</th>\n",
       "      <td>com.Slack</td>\n",
       "      <td>when you repeat over and over that you suppo...</td>\n",
       "      <td>0</td>\n",
       "    </tr>\n",
       "    <tr>\n",
       "      <th>245</th>\n",
       "      <td>com.android.chrome</td>\n",
       "      <td>what is this? google is an oldest browser to ...</td>\n",
       "      <td>0</td>\n",
       "    </tr>\n",
       "    <tr>\n",
       "      <th>573</th>\n",
       "      <td>jabanaki.todo.todoly</td>\n",
       "      <td>does exactly what it states, thank you!</td>\n",
       "      <td>1</td>\n",
       "    </tr>\n",
       "    <tr>\n",
       "      <th>638</th>\n",
       "      <td>com.uc.browser.en</td>\n",
       "      <td>browser issue hi team, when ever i press the ...</td>\n",
       "      <td>0</td>\n",
       "    </tr>\n",
       "    <tr>\n",
       "      <th>0</th>\n",
       "      <td>com.facebook.katana</td>\n",
       "      <td>privacy at least put some option appear offli...</td>\n",
       "      <td>0</td>\n",
       "    </tr>\n",
       "  </tbody>\n",
       "</table>\n",
       "</div>"
      ],
      "text/plain": [
       "                   package_name  \\\n",
       "811         org.mozilla.firefox   \n",
       "567        jabanaki.todo.todoly   \n",
       "519         com.dropbox.android   \n",
       "201  com.supercell.clashofclans   \n",
       "764     com.shirantech.kantipur   \n",
       "483                   com.Slack   \n",
       "245          com.android.chrome   \n",
       "573        jabanaki.todo.todoly   \n",
       "638           com.uc.browser.en   \n",
       "0           com.facebook.katana   \n",
       "\n",
       "                                                review  polarity  \n",
       "811   the best android browser fast, well designed,...         1  \n",
       "567   very bad i use xperia x8 and i think this app...         0  \n",
       "519   sort option not working they have just provid...         0  \n",
       "201   help me!!!!!!! my ipad had a software so i lo...         0  \n",
       "764               thank you ! thank you so much.......         1  \n",
       "483    when you repeat over and over that you suppo...         0  \n",
       "245   what is this? google is an oldest browser to ...         0  \n",
       "573          does exactly what it states, thank you!           1  \n",
       "638   browser issue hi team, when ever i press the ...         0  \n",
       "0     privacy at least put some option appear offli...         0  "
      ]
     },
     "execution_count": 7,
     "metadata": {},
     "output_type": "execute_result"
    }
   ],
   "source": [
    "# Load data\n",
    "df_raw = pd.read_csv('../data/raw/playstore_reviews.csv')\n",
    "df_raw.sample(10)"
   ]
  },
  {
   "cell_type": "code",
   "execution_count": 8,
   "id": "497316ae",
   "metadata": {},
   "outputs": [
    {
     "name": "stdout",
     "output_type": "stream",
     "text": [
      "<class 'pandas.core.frame.DataFrame'>\n",
      "RangeIndex: 891 entries, 0 to 890\n",
      "Data columns (total 3 columns):\n",
      " #   Column        Non-Null Count  Dtype \n",
      "---  ------        --------------  ----- \n",
      " 0   package_name  891 non-null    object\n",
      " 1   review        891 non-null    object\n",
      " 2   polarity      891 non-null    int64 \n",
      "dtypes: int64(1), object(2)\n",
      "memory usage: 21.0+ KB\n"
     ]
    }
   ],
   "source": [
    "df_raw.info()"
   ]
  },
  {
   "cell_type": "code",
   "execution_count": null,
   "id": "e4222196",
   "metadata": {},
   "outputs": [
    {
     "data": {
      "text/html": [
       "<div>\n",
       "<style scoped>\n",
       "    .dataframe tbody tr th:only-of-type {\n",
       "        vertical-align: middle;\n",
       "    }\n",
       "\n",
       "    .dataframe tbody tr th {\n",
       "        vertical-align: top;\n",
       "    }\n",
       "\n",
       "    .dataframe thead th {\n",
       "        text-align: right;\n",
       "    }\n",
       "</style>\n",
       "<table border=\"1\" class=\"dataframe\">\n",
       "  <thead>\n",
       "    <tr style=\"text-align: right;\">\n",
       "      <th></th>\n",
       "      <th>review</th>\n",
       "      <th>polarity</th>\n",
       "    </tr>\n",
       "  </thead>\n",
       "  <tbody>\n",
       "    <tr>\n",
       "      <th>0</th>\n",
       "      <td>privacy at least put some option appear offli...</td>\n",
       "      <td>0</td>\n",
       "    </tr>\n",
       "    <tr>\n",
       "      <th>1</th>\n",
       "      <td>messenger issues ever since the last update, ...</td>\n",
       "      <td>0</td>\n",
       "    </tr>\n",
       "    <tr>\n",
       "      <th>2</th>\n",
       "      <td>profile any time my wife or anybody has more ...</td>\n",
       "      <td>0</td>\n",
       "    </tr>\n",
       "    <tr>\n",
       "      <th>3</th>\n",
       "      <td>the new features suck for those of us who don...</td>\n",
       "      <td>0</td>\n",
       "    </tr>\n",
       "    <tr>\n",
       "      <th>4</th>\n",
       "      <td>forced reload on uploading pic on replying co...</td>\n",
       "      <td>0</td>\n",
       "    </tr>\n",
       "  </tbody>\n",
       "</table>\n",
       "</div>"
      ],
      "text/plain": [
       "                                              review  polarity\n",
       "0   privacy at least put some option appear offli...         0\n",
       "1   messenger issues ever since the last update, ...         0\n",
       "2   profile any time my wife or anybody has more ...         0\n",
       "3   the new features suck for those of us who don...         0\n",
       "4   forced reload on uploading pic on replying co...         0"
      ]
     },
     "execution_count": 13,
     "metadata": {},
     "output_type": "execute_result"
    }
   ],
   "source": [
    "# Preprocessing\n",
    "df_baking = df_raw.copy()\n",
    "\n",
    "df_baking = df_baking.drop(columns='package_name')\n",
    "df_baking = df_baking.reset_index(drop=True)\n",
    "\n",
    "df = df_baking.copy()\n",
    "df.head()"
   ]
  },
  {
   "cell_type": "code",
   "execution_count": 14,
   "id": "2e757c55",
   "metadata": {},
   "outputs": [
    {
     "data": {
      "image/png": "[encoded data removed]",
      "text/plain": [
       "<Figure size 640x480 with 1 Axes>"
      ]
     },
     "metadata": {},
     "output_type": "display_data"
    }
   ],
   "source": [
    "df.hist()\n",
    "plt.tight_layout()\n",
    "plt.show()"
   ]
  },
  {
   "cell_type": "code",
   "execution_count": 16,
   "id": "c5f75015",
   "metadata": {},
   "outputs": [],
   "source": [
    "# Save df\n",
    "df.to_csv('../data/processed/playstore_reviews_processed.csv', index=False)"
   ]
  }
 ],
 "metadata": {
  "kernelspec": {
   "display_name": ".venv",
   "language": "python",
   "name": "python3"
  },
  "language_info": {
   "codemirror_mode": {
    "name": "ipython",
    "version": 3
   },
   "file_extension": ".py",
   "mimetype": "text/x-python",
   "name": "python",
   "nbconvert_exporter": "python",
   "pygments_lexer": "ipython3",
   "version": "3.12.1"
  }
 },
 "nbformat": 4,
 "nbformat_minor": 5
}
